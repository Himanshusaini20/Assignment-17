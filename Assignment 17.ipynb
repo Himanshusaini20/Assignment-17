{
 "cells": [
  {
   "cell_type": "markdown",
   "id": "d65db7cb-a865-43f1-9aa3-c7c8ba44145f",
   "metadata": {},
   "source": [
    "### Q1 Explain GET and POSt methods."
   ]
  },
  {
   "cell_type": "code",
   "execution_count": 1,
   "id": "2fd751b9-e3be-494a-a40f-6293f7a425d8",
   "metadata": {},
   "outputs": [
    {
     "data": {
      "text/plain": [
       "' In GET method we can not sent large amount of data rather limited data is sent because the request parameter is appended into the URL'"
      ]
     },
     "execution_count": 1,
     "metadata": {},
     "output_type": "execute_result"
    }
   ],
   "source": [
    "# GET\n",
    "''' In GET method we can not sent large amount of data rather limited data is sent because the request parameter is appended into the URL'''"
   ]
  },
  {
   "cell_type": "code",
   "execution_count": 3,
   "id": "063aa9f8-1c88-4510-8ac0-5bea3c020e9a",
   "metadata": {},
   "outputs": [
    {
     "data": {
      "text/plain": [
       "' In POST method large amount of data can be sent because the request parameter is appended into the body. '"
      ]
     },
     "execution_count": 3,
     "metadata": {},
     "output_type": "execute_result"
    }
   ],
   "source": [
    "# POST \n",
    "''' In POST method large amount of data can be sent because the request parameter is appended into the body. '''"
   ]
  },
  {
   "cell_type": "markdown",
   "id": "4d9ced18-0ad4-42c2-9f2e-a19889cc50af",
   "metadata": {},
   "source": [
    "### Q2 Why is requestused in Flask?"
   ]
  },
  {
   "cell_type": "code",
   "execution_count": 4,
   "id": "e6aa5783-73fc-4099-838a-c185d9d640e8",
   "metadata": {},
   "outputs": [
    {
     "data": {
      "text/plain": [
       "' In a Flask App we have aour own Webpage and a Server. The Server should process the data. The Request in Flask is an object that contains all the data sent \\nfrom the Client Server.'"
      ]
     },
     "execution_count": 4,
     "metadata": {},
     "output_type": "execute_result"
    }
   ],
   "source": [
    "''' In a Flask App we have aour own Webpage and a Server. The Server should process the data. The Request in Flask is an object that contains all the data sent \n",
    "from the Client Server.'''"
   ]
  },
  {
   "cell_type": "markdown",
   "id": "3d2b7247-1a0e-4a87-9a0a-d589c9fff1f5",
   "metadata": {},
   "source": [
    "### Q3 Why is redirect() usedin Flask?"
   ]
  },
  {
   "cell_type": "code",
   "execution_count": 5,
   "id": "97b08a0d-f1d5-4c58-b10a-1c80726a916c",
   "metadata": {},
   "outputs": [
    {
     "data": {
      "text/plain": [
       "' A redirect is used in the Flask class to send the user to a particular URL with the status code. Conversely this status code additionally indentifies the issue. '"
      ]
     },
     "execution_count": 5,
     "metadata": {},
     "output_type": "execute_result"
    }
   ],
   "source": [
    "''' A redirect is used in the Flask class to send the user to a particular URL with the status code. Conversely this status code additionally indentifies the issue. '''"
   ]
  },
  {
   "cell_type": "markdown",
   "id": "31948619-7881-4173-8c44-26f64b58e787",
   "metadata": {},
   "source": [
    "### Q4 What are templates in Flask? Why is the render_template() function used?"
   ]
  },
  {
   "cell_type": "code",
   "execution_count": 6,
   "id": "b2150d49-458f-4940-a428-3dd3ca653eff",
   "metadata": {},
   "outputs": [
    {
     "data": {
      "text/plain": [
       "' Templates are the files that contain static data as well as plaseholders for dynamic data. A template is rendered with specific data to produse a final \\ndocument'"
      ]
     },
     "execution_count": 6,
     "metadata": {},
     "output_type": "execute_result"
    }
   ],
   "source": [
    "''' Templates are the files that contain static data as well as plaseholders for dynamic data. A template is rendered with specific data to produse a final \n",
    "document'''"
   ]
  },
  {
   "cell_type": "code",
   "execution_count": 7,
   "id": "87f470d9-3c83-4cf7-b1cb-ba07a3a182c8",
   "metadata": {},
   "outputs": [
    {
     "data": {
      "text/plain": [
       "\" render_templateisa Flask function from the flask.templating package. render_template is used to genrate output from a tamplatefile based on the Jinja2 engine\\nthat is found in the application's templates folder.\""
      ]
     },
     "execution_count": 7,
     "metadata": {},
     "output_type": "execute_result"
    }
   ],
   "source": [
    "''' render_templateisa Flask function from the flask.templating package. render_template is used to genrate output from a tamplatefile based on the Jinja2 engine\n",
    "that is found in the application's templates folder.'''"
   ]
  },
  {
   "cell_type": "markdown",
   "id": "5383151b-7da9-47ff-86ad-e131e0eab1ac",
   "metadata": {},
   "source": [
    "### Q5 Create a simple API. Use Postman to test it. Attach the screen Shot of the output inthe jupyter Notebook."
   ]
  },
  {
   "cell_type": "code",
   "execution_count": null,
   "id": "76a6f26c-709e-472e-af24-b3b85d0a0f02",
   "metadata": {},
   "outputs": [],
   "source": [
    "from flask import Flask,request,jsonify\n",
    "\n",
    "app = Flask(__name__)\n",
    "\n",
    "@app.route('/postman_data',methods=['POST'])\n",
    "def math_operation():\n",
    "    if (request.method=='POST'):\n",
    "        ops=request.json['operation']\n",
    "        num1 =int(request.json['num1'])\n",
    "        num2 =int(request.json['num2'])\n",
    "        if (ops=='add'):\n",
    "            r=num1+num2\n",
    "            result ='the sum of   '+ str(num1)+ 'and   ' +str(num2) +\"is   \" +str(r)\n",
    "        if (ops=='subtract'):\n",
    "            r=num1-num2\n",
    "            result ='the subtract of   '+ str(num1)+ 'and   ' +str(num2) +\"is   \" +str(r)\n",
    "        if (ops=='multiply'):\n",
    "            r=num1*num2\n",
    "            result ='the multiply of   '+ str(num1)+ 'and   ' +str(num2) +\"is   \" +str(r)\n",
    "        if (ops=='divide'):\n",
    "            r=num1/num2\n",
    "            result ='the divide of   '+ str(num1)+ 'and   ' +str(num2) +\"is   \" +str(r)\n",
    "        \n",
    "        return jsonify(result)\n",
    "\n",
    "if __name__==\"__main__\":\n",
    "    app.run(host=\"0.0.0.0\")"
   ]
  },
  {
   "cell_type": "markdown",
   "id": "eea4fb61-9da5-4cb2-a0b8-d66a2b91e6ea",
   "metadata": {},
   "source": []
  }
 ],
 "metadata": {
  "kernelspec": {
   "display_name": "Python 3 (ipykernel)",
   "language": "python",
   "name": "python3"
  },
  "language_info": {
   "codemirror_mode": {
    "name": "ipython",
    "version": 3
   },
   "file_extension": ".py",
   "mimetype": "text/x-python",
   "name": "python",
   "nbconvert_exporter": "python",
   "pygments_lexer": "ipython3",
   "version": "3.10.8"
  }
 },
 "nbformat": 4,
 "nbformat_minor": 5
}
